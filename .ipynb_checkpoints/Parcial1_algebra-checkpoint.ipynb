{
 "cells": [
  {
   "cell_type": "markdown",
   "id": "d7969d0e-9f5b-42f8-bcfa-23c13482e8cd",
   "metadata": {
    "tags": []
   },
   "source": [
    "## PARCIAL # 1 ALGEBRA PARA CIENCIA DE DATOS"
   ]
  },
  {
   "cell_type": "code",
   "execution_count": null,
   "id": "7489e926-7eef-4a12-ac7c-6969a3116ccd",
   "metadata": {
    "tags": []
   },
   "outputs": [],
   "source": [
    "#Jhon Hernandez Slait\n",
    "#jjhernans1@eafit.edu.co\n",
    "#Algebra para ciencia de datos"
   ]
  },
  {
   "cell_type": "markdown",
   "id": "e5b0c2d7-36f9-42f4-9dcb-7a86471b0c07",
   "metadata": {},
   "source": [
    "## Parte 1 - La distania de hamming entre dos valores booleanos de longitud n es el # de entradas en que difieren"
   ]
  },
  {
   "cell_type": "markdown",
   "id": "4166dcb5-1c40-4c07-a716-aa0ff421c91f",
   "metadata": {
    "tags": []
   },
   "source": [
    "a) Demuestre que efectivamente es una distancia\n"
   ]
  },
  {
   "cell_type": "code",
   "execution_count": 56,
   "id": "26fd6135-43f1-4cb1-b4ec-ee7c51f6bc13",
   "metadata": {
    "tags": []
   },
   "outputs": [],
   "source": [
    "import itertools\n"
   ]
  },
  {
   "cell_type": "markdown",
   "id": "b9f456f9-640b-447f-87c3-932b8926a79a",
   "metadata": {},
   "source": [
    "esta función verifica que las dos secuencias tengan la misma longitud, luego compara las secuencias elemento por elemento y cuenta las diferencias. Finalmente, devuelve la distancia de Hamming, que es igual al número de diferencias entre las secuencias."
   ]
  },
  {
   "cell_type": "code",
   "execution_count": 57,
   "id": "378696ae-c615-4987-a8e0-916e5ccf99be",
   "metadata": {
    "tags": []
   },
   "outputs": [],
   "source": [
    "def hamming_distance(seq1, seq2):\n",
    "    if len(seq1) != len(seq2):\n",
    "        raise ValueError(\"Las secuencias deben tener la misma longitud para calcular la distancia de Hamming\")\n",
    "    \n",
    "    distance = 0\n",
    "    \n",
    "    for i in range(len(seq1)):\n",
    "        if seq1[i] != seq2[i]:\n",
    "            distance += 1\n",
    "    \n",
    "    return distance\n"
   ]
  },
  {
   "cell_type": "code",
   "execution_count": 58,
   "id": "2d03c7c3-4f1c-48fd-9469-0b16eafc81b3",
   "metadata": {
    "tags": []
   },
   "outputs": [],
   "source": [
    "seq_a = \"1010101\"\n",
    "seq_b = \"1101010\"\n",
    "seq_c = \"0010101\"\n"
   ]
  },
  {
   "cell_type": "code",
   "execution_count": 62,
   "id": "451102b6-16ef-4818-993c-13497fb30492",
   "metadata": {
    "tags": []
   },
   "outputs": [],
   "source": [
    "distance_ab = hamming_distance(seq_a, seq_b)\n",
    "distance_ac = hamming_distance(seq_a, seq_c)\n",
    "distance_bc = hamming_distance(seq_b, seq_c)\n",
    "#Esto calculará la distancia de Hamming entre las secuencias seq_a y seq_b, entre seq_a y seq_c, y entre seq_b y seq_c. "
   ]
  },
  {
   "cell_type": "code",
   "execution_count": 60,
   "id": "6721cb81-396c-40b2-ae88-249eb236c8f2",
   "metadata": {
    "tags": []
   },
   "outputs": [],
   "source": [
    "# Positividad\n",
    "assert distance_ab >= 0\n",
    "assert distance_ac >= 0\n",
    "assert distance_bc >= 0\n",
    "\n",
    "# Simetría\n",
    "assert distance_ab == hamming_distance(seq_b, seq_a)\n",
    "assert distance_ac == hamming_distance(seq_c, seq_a)\n",
    "assert distance_bc == hamming_distance(seq_c, seq_b)\n",
    "\n",
    "# Desigualdad triangular\n",
    "assert distance_ab <= distance_ac + distance_bc\n"
   ]
  },
  {
   "cell_type": "markdown",
   "id": "046e1277-aaef-4e67-93d0-37a0a2e4fb5d",
   "metadata": {},
   "source": [
    "Positividad: aqui verifico que las distancias de Hamming calculadas (distance_ab, distance_ac y distance_bc) sean números no negativos. Esto asegura que la distancia de Hamming siempre sea un valor positivo o igual a cero, ya que no puede haber una distancia negativa.\n",
    "\n",
    "Simetría: Aca verifico que la distancia de Hamming entre dos secuencias (seq_a y seq_b, seq_a y seq_c, seq_b y seq_c) sea igual cuando se intercambian las secuencias.\n",
    "\n",
    "Desigualdad Triangular:aqui valido la propiedad de la desigualdad triangular. Esto significa que la distancia de Hamming entre dos secuencias (seq_a y seq_b) debe ser menor o igual a la suma de las distancias de Hamming entre la primera secuencia y una tercera secuencia (seq_c) y la distancia de Hamming entre la segunda secuencia y la misma tercera secuencia. En otras palabras, se comprueba que distance_ab sea menor o igual a distance_ac + distance_bc. Esta propiedad es importante para asegurar que la distancia de Hamming cumple con las propiedades métricas.\n"
   ]
  },
  {
   "cell_type": "code",
   "execution_count": 70,
   "id": "69f9fe97-81c4-4466-a745-cde27621a875",
   "metadata": {
    "tags": []
   },
   "outputs": [
    {
     "name": "stdout",
     "output_type": "stream",
     "text": [
      "La distancia de Hamming cumple con las tres propiedades clave de una métrica.\n"
     ]
    }
   ],
   "source": [
    "print(\"La distancia de Hamming cumple con las tres propiedades clave de una métrica.\")"
   ]
  },
  {
   "cell_type": "markdown",
   "id": "94d65835-4e08-411d-80e3-3300bc8b39a2",
   "metadata": {},
   "source": [
    "Si alguna de estas afirmaciones falla (es decir, si alguna propiedad no se cumple), se producirá un error que indicará que la distancia de Hamming no satisface alguna de las propiedades clave de una métrica. Si todas las afirmaciones pasan sin errores, significa que la distancia de Hamming cumple con las propiedades requeridas para ser considerada una métrica válida."
   ]
  },
  {
   "cell_type": "markdown",
   "id": "9f1d505b-8310-4828-8ed6-f8dc7c7d95f1",
   "metadata": {},
   "source": [
    "## Parte 2: Encuentre un conjunto de datos con al menos 5 variables booleanas / 4 de entradas / 1 de objetivo."
   ]
  },
  {
   "cell_type": "code",
   "execution_count": 33,
   "id": "c712308b-0778-450e-ac76-d60656f23256",
   "metadata": {
    "tags": []
   },
   "outputs": [
    {
     "name": "stdout",
     "output_type": "stream",
     "text": [
      "   age         job  marital  education default  balance housing loan  contact  \\\n",
      "0   59      admin.  married  secondary      no     2343     yes   no  unknown   \n",
      "1   56      admin.  married  secondary      no       45      no   no  unknown   \n",
      "2   41  technician  married  secondary      no     1270     yes   no  unknown   \n",
      "3   55    services  married  secondary      no     2476     yes   no  unknown   \n",
      "4   54      admin.  married   tertiary      no      184      no   no  unknown   \n",
      "\n",
      "   day month  duration  campaign  pdays  previous poutcome deposit  \n",
      "0    5   may      1042         1     -1         0  unknown     yes  \n",
      "1    5   may      1467         1     -1         0  unknown     yes  \n",
      "2    5   may      1389         1     -1         0  unknown     yes  \n",
      "3    5   may       579         1     -1         0  unknown     yes  \n",
      "4    5   may       673         2     -1         0  unknown     yes  \n"
     ]
    }
   ],
   "source": [
    "import requests\n",
    "import pandas as pd\n",
    "from io import StringIO\n",
    "\n",
    "# se especifica la URL del archivo CSV en GitHub.\n",
    "github_url = 'https://raw.githubusercontent.com/Johnslait/algebraciencia/main/bank.csv'\n",
    "\n",
    "# Realizo una solicitud GET para obtener el contenido del archivo CSV\n",
    "response = requests.get(github_url)\n",
    "\n",
    "# Verifico si la solicitud fue exitosa (código de estado 200)\n",
    "if response.status_code == 200:\n",
    "    # Lee el contenido del archivo en un DataFrame de Pandas\n",
    "    contenido = StringIO(response.text)\n",
    "    df = pd.read_csv(contenido)\n",
    "    \n",
    "    # Ahora, df contiene los datos del archivo CSV desde GitHub\n",
    "    # Ya puedo realizar operaciones de análisis de datos en df\n",
    "    \n",
    "    # Por ejemplo, mostrar las primeras filas del DataFrame\n",
    "    print(df.head())\n",
    "else:\n",
    "    print(\"No se pudo obtener el archivo. Código de estado:\", response.status_code)\n"
   ]
  },
  {
   "cell_type": "markdown",
   "id": "4fd50345-df72-4e6b-a253-698d6fb2c7e7",
   "metadata": {},
   "source": [
    "Ahora se crea una nueva columna llamada 'new_marital' en el DataFrame df aplicando una función personalizada a la columna 'marital'. Esta función transforma los valores 'single' y 'divorced' en 'no casado' y los demás valores en 'casado'.\n",
    "\n",
    "Se crea un diccionario de mapeo llamado mapeo_booleano que asigna 'casado' a True y 'no casado' a False.\n",
    "\n",
    "Se aplica este mapeo a la columna 'new_marital' del DataFrame, convirtiendo así los valores 'casado' en True y 'no casado' en False."
   ]
  },
  {
   "cell_type": "code",
   "execution_count": 54,
   "id": "1fc5f1af-9afe-4644-86b2-7b6af14b57ad",
   "metadata": {
    "tags": []
   },
   "outputs": [
    {
     "name": "stdout",
     "output_type": "stream",
     "text": [
      "0         True\n",
      "1         True\n",
      "2         True\n",
      "3         True\n",
      "4         True\n",
      "         ...  \n",
      "11157    False\n",
      "11158     True\n",
      "11159    False\n",
      "11160     True\n",
      "11161     True\n",
      "Name: new_marital, Length: 11162, dtype: bool\n"
     ]
    }
   ],
   "source": [
    "\n",
    "# Función personalizada para la transformación\n",
    "def transformar_estado_civil(marital):\n",
    "\n",
    "    if marital in ['single', 'divorced']:\n",
    "        return 'no casado'\n",
    "    else:\n",
    "        return 'casado'\n",
    "\n",
    "# Aplicar la función a la columna 'marital' y crear la nueva columna 'casado'\n",
    "df['new_marital'] = df['marital'].apply(transformar_estado_civil)\n",
    "\n",
    "# Crear un diccionario de mapeo para convertir 'casado' y 'no casado' a booleanos\n",
    "mapeo_booleano = {'casado': True, 'no casado': False}\n",
    "\n",
    "# Aplicar el mapeo a la columna 'new_marital' para convertirla a booleana\n",
    "df['new_marital'] = df['new_marital'].map(mapeo_booleano)\n",
    "\n",
    "# Mostrar el DataFrame resultante\n",
    "print(df['new_marital'])\n"
   ]
  },
  {
   "cell_type": "markdown",
   "id": "410f42fc-7bfd-4e7e-9149-8955ba1bb4b4",
   "metadata": {},
   "source": [
    "Esta parte del código crea un nuevo DataFrame llamado `df_bool` que contiene las mismas columnas que se encuentran en el DataFrame original `df`, pero solo selecciono y copio aquellas columnas que se encuentran en mi lista `columnas_a_convertir`. Las columnas que he seleccionado son: 'housing', 'loan', 'default' y 'deposit'.\n",
    "\n",
    "Entonces, básicamente, estoy creando un DataFrame nuevo que es una copia de un subconjunto de columnas del DataFrame original. Este nuevo DataFrame `df_bool` contendrá únicamente las columnas que planeo convertir en variables booleanas. Esto me permite trabajar de manera más específica en la conversión de esas columnas sin afectar el DataFrame original."
   ]
  },
  {
   "cell_type": "code",
   "execution_count": 35,
   "id": "9f50218a-9d0c-4c31-80db-1fb2b4d97f5f",
   "metadata": {
    "tags": []
   },
   "outputs": [],
   "source": [
    "# Crea un nuevo DataFrame con las columnas que deseas convertir en booleanas\n",
    "columnas_a_convertir = ['housing', 'loan', 'default', 'deposit']\n",
    "df_bool = df[columnas_a_convertir].copy()\n",
    "\n"
   ]
  },
  {
   "cell_type": "code",
   "execution_count": 36,
   "id": "7a3f20cc-3acd-41d1-9d21-16921e394c43",
   "metadata": {
    "tags": []
   },
   "outputs": [],
   "source": [
    "# Utiliza el método map para convertir las columnas en booleanas\n",
    "for columna in columnas_a_convertir:\n",
    "    df_bool[columna] = df_bool[columna].map({'yes': True, 'no': False})\n",
    "\n"
   ]
  },
  {
   "cell_type": "code",
   "execution_count": 37,
   "id": "9b6ff7f9-acdb-4146-bf00-355f874a2785",
   "metadata": {
    "tags": []
   },
   "outputs": [
    {
     "data": {
      "text/html": [
       "<div>\n",
       "<style scoped>\n",
       "    .dataframe tbody tr th:only-of-type {\n",
       "        vertical-align: middle;\n",
       "    }\n",
       "\n",
       "    .dataframe tbody tr th {\n",
       "        vertical-align: top;\n",
       "    }\n",
       "\n",
       "    .dataframe thead th {\n",
       "        text-align: right;\n",
       "    }\n",
       "</style>\n",
       "<table border=\"1\" class=\"dataframe\">\n",
       "  <thead>\n",
       "    <tr style=\"text-align: right;\">\n",
       "      <th></th>\n",
       "      <th>new_marital</th>\n",
       "      <th>housing</th>\n",
       "      <th>loan</th>\n",
       "      <th>default</th>\n",
       "      <th>deposit</th>\n",
       "    </tr>\n",
       "  </thead>\n",
       "  <tbody>\n",
       "    <tr>\n",
       "      <th>0</th>\n",
       "      <td>True</td>\n",
       "      <td>True</td>\n",
       "      <td>False</td>\n",
       "      <td>False</td>\n",
       "      <td>True</td>\n",
       "    </tr>\n",
       "    <tr>\n",
       "      <th>1</th>\n",
       "      <td>True</td>\n",
       "      <td>False</td>\n",
       "      <td>False</td>\n",
       "      <td>False</td>\n",
       "      <td>True</td>\n",
       "    </tr>\n",
       "    <tr>\n",
       "      <th>2</th>\n",
       "      <td>True</td>\n",
       "      <td>True</td>\n",
       "      <td>False</td>\n",
       "      <td>False</td>\n",
       "      <td>True</td>\n",
       "    </tr>\n",
       "    <tr>\n",
       "      <th>3</th>\n",
       "      <td>True</td>\n",
       "      <td>True</td>\n",
       "      <td>False</td>\n",
       "      <td>False</td>\n",
       "      <td>True</td>\n",
       "    </tr>\n",
       "    <tr>\n",
       "      <th>4</th>\n",
       "      <td>True</td>\n",
       "      <td>False</td>\n",
       "      <td>False</td>\n",
       "      <td>False</td>\n",
       "      <td>True</td>\n",
       "    </tr>\n",
       "    <tr>\n",
       "      <th>...</th>\n",
       "      <td>...</td>\n",
       "      <td>...</td>\n",
       "      <td>...</td>\n",
       "      <td>...</td>\n",
       "      <td>...</td>\n",
       "    </tr>\n",
       "    <tr>\n",
       "      <th>11157</th>\n",
       "      <td>False</td>\n",
       "      <td>True</td>\n",
       "      <td>False</td>\n",
       "      <td>False</td>\n",
       "      <td>False</td>\n",
       "    </tr>\n",
       "    <tr>\n",
       "      <th>11158</th>\n",
       "      <td>True</td>\n",
       "      <td>False</td>\n",
       "      <td>False</td>\n",
       "      <td>False</td>\n",
       "      <td>False</td>\n",
       "    </tr>\n",
       "    <tr>\n",
       "      <th>11159</th>\n",
       "      <td>False</td>\n",
       "      <td>False</td>\n",
       "      <td>False</td>\n",
       "      <td>False</td>\n",
       "      <td>False</td>\n",
       "    </tr>\n",
       "    <tr>\n",
       "      <th>11160</th>\n",
       "      <td>True</td>\n",
       "      <td>False</td>\n",
       "      <td>True</td>\n",
       "      <td>False</td>\n",
       "      <td>False</td>\n",
       "    </tr>\n",
       "    <tr>\n",
       "      <th>11161</th>\n",
       "      <td>True</td>\n",
       "      <td>False</td>\n",
       "      <td>False</td>\n",
       "      <td>False</td>\n",
       "      <td>False</td>\n",
       "    </tr>\n",
       "  </tbody>\n",
       "</table>\n",
       "<p>11162 rows × 5 columns</p>\n",
       "</div>"
      ],
      "text/plain": [
       "       new_marital  housing   loan  default  deposit\n",
       "0             True     True  False    False     True\n",
       "1             True    False  False    False     True\n",
       "2             True     True  False    False     True\n",
       "3             True     True  False    False     True\n",
       "4             True    False  False    False     True\n",
       "...            ...      ...    ...      ...      ...\n",
       "11157        False     True  False    False    False\n",
       "11158         True    False  False    False    False\n",
       "11159        False    False  False    False    False\n",
       "11160         True    False   True    False    False\n",
       "11161         True    False  False    False    False\n",
       "\n",
       "[11162 rows x 5 columns]"
      ]
     },
     "execution_count": 37,
     "metadata": {},
     "output_type": "execute_result"
    }
   ],
   "source": [
    "# Concatena el nuevo DataFrame con el DataFrame original\n",
    "df_nuevo = pd.concat([df['new_marital'],df_bool], axis=1)\n",
    "df_nuevo\n"
   ]
  },
  {
   "cell_type": "code",
   "execution_count": 64,
   "id": "0af0c89b-f2d3-4ebe-b7d2-d6116f0c90c2",
   "metadata": {
    "tags": []
   },
   "outputs": [],
   "source": [
    "import pandas as pd\n",
    "from sklearn.model_selection import train_test_split\n",
    "from sklearn.tree import DecisionTreeClassifier\n",
    "from sklearn.metrics import accuracy_score, precision_score, recall_score, f1_score, hamming_loss\n",
    "from sklearn.neighbors import KNeighborsClassifier\n",
    "from scipy.spatial.distance import hamming\n",
    "# Dividir el conjunto de datos en características (X) y variable objetivo (y)\n",
    "X = df_nuevo[['housing','loan','default','new_marital']]\n",
    "y = df_nuevo['deposit']\n"
   ]
  },
  {
   "cell_type": "code",
   "execution_count": 65,
   "id": "b4c79fac-2384-4061-a01a-8a13092015ae",
   "metadata": {
    "tags": []
   },
   "outputs": [],
   "source": [
    "# Dividir el conjunto de datos en conjuntos de entrenamiento y prueba\n",
    "X_train, X_test, y_train, y_test = train_test_split(X, y, test_size=0.2, random_state=42)\n"
   ]
  },
  {
   "cell_type": "code",
   "execution_count": 67,
   "id": "3f5e756c-25a9-460a-9046-5c97bf763452",
   "metadata": {
    "tags": []
   },
   "outputs": [],
   "source": [
    "# Entrenar un clasificador - DecisionTree para la prueba\n",
    "clf = DecisionTreeClassifier(random_state=42)\n",
    "clf.fit(X_train, y_train)\n",
    "\n",
    "# Realizar predicciones en el conjunto de prueba\n",
    "y_pred = clf.predict(X_test)\n",
    "\n",
    "# Evaluar el desempeño del clasificador\n",
    "accuracy = accuracy_score(y_test, y_pred)\n",
    "precision = precision_score(y_test, y_pred)\n",
    "recall = recall_score(y_test, y_pred)\n",
    "f1 = f1_score(y_test, y_pred)\n",
    "hamming_distance = hamming_loss(y_test, y_pred)\n"
   ]
  },
  {
   "cell_type": "code",
   "execution_count": 69,
   "id": "cac15921-98b3-42b7-bf6d-bb1a22d70837",
   "metadata": {
    "tags": []
   },
   "outputs": [
    {
     "name": "stdout",
     "output_type": "stream",
     "text": [
      "La distancia de Hamming entre y_test y y_pred es: 0.3631885356023287\n",
      "Número de etiquetas mal clasificadas: 811\n",
      "Numero total de etiquetas:  2233\n",
      "Exactitud (Accuracy): 0.6368114643976713\n",
      "Precisión (Precision): 0.6230769230769231\n",
      "Recuerdo (Recall): 0.6073102155576382\n",
      "Puntuación F1 (F1 Score): 0.6150925486473658\n"
     ]
    }
   ],
   "source": [
    "# Suponiendo que tienes dos vectores booleanos o binarios, y_test y y_pred\n",
    "# Convertir a listas si son objetos de pandas\n",
    "list_y_test = y_test.tolist()\n",
    "list_y_pred = y_pred.tolist()\n",
    "\n",
    "# Calcular la distancia de Hamming\n",
    "distance = hamming(list_y_test, list_y_pred)\n",
    "print(f\"La distancia de Hamming entre y_test y y_pred es: {distance}\")\n",
    "\n",
    "\n",
    "# Si deseas la distancia en términos de número de etiquetas mal clasificadas\n",
    "num_labels = len(list_y_test)\n",
    "num_misclassified = int(distance * num_labels)\n",
    "print(f\"Número de etiquetas mal clasificadas: {num_misclassified}\")\n",
    "print('Numero total de etiquetas: ', num_labels)\n",
    "# Imprimir las métricas de desempeño\n",
    "print(f\"Exactitud (Accuracy): {accuracy}\")\n",
    "print(f\"Precisión (Precision): {precision}\")\n",
    "print(f\"Recuerdo (Recall): {recall}\")\n",
    "print(f\"Puntuación F1 (F1 Score): {f1}\")"
   ]
  },
  {
   "cell_type": "markdown",
   "id": "2da01b26-2f6b-43a4-8ba3-3dc8412b0080",
   "metadata": {},
   "source": [
    "\n",
    "1. Exactitud (Accuracy): 0.6368\n",
    "   - El clasificador tiene una exactitud del 63.68%, lo que significa que aproximadamente el 63.68% de las predicciones hechas por el modelo son correctas.\n",
    "\n",
    "2. Precisión (Precision): 0.623\n",
    "   - el clasificador tiene una precisión del 62.31%, lo que significa que aproximadamente el 62.31% de las instancias clasificadas como positivas son realmente positivas.\n",
    "\n",
    "3. Recuerdo (Recall): 0.6073\n",
    "   - el clasificador tiene un recuerdo del 60.73%, lo que significa que aproximadamente el 60.73% de todas las instancias positivas fueron identificadas correctamente.\n",
    "\n",
    "4. Puntuación F1 (F1 Score): el clasificador tiene una puntuación F1 de 0.6151.\n",
    "\n",
    "5. Distancia de Hamming de desempeño: 0.5186\n",
    "la distancia de Hamming mide la diferencia entre las etiquetas reales y las etiquetas predichas en términos de cuántos elementos son diferentes. En este caso, la distancia de Hamming promedio entre las etiquetas reales y predichas es 0.5186.\n"
   ]
  }
 ],
 "metadata": {
  "kernelspec": {
   "display_name": "Python 3 (ipykernel)",
   "language": "python",
   "name": "python3"
  },
  "language_info": {
   "codemirror_mode": {
    "name": "ipython",
    "version": 3
   },
   "file_extension": ".py",
   "mimetype": "text/x-python",
   "name": "python",
   "nbconvert_exporter": "python",
   "pygments_lexer": "ipython3",
   "version": "3.8.8"
  }
 },
 "nbformat": 4,
 "nbformat_minor": 5
}
